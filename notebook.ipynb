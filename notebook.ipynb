{
 "cells": [
  {
   "cell_type": "markdown",
   "metadata": {},
   "source": [
    "# <span id=title style=\"color:#f37826\"> LMPC - Simple example </span>\n",
    "<br>\n",
    "\n",
    "The notebook is based on the paper: U. Rosolia and F. Borrelli, \"Learning Model Predictive Control for Iterative Tasks. A Data-Driven Control Framework,\" in _IEEE Transactions on Automatic Control_, vol. 63, no. 7, pp. 1883-1896, July 2018, doi: 10.1109/TAC.2017.2753460.\n",
    "\n",
    "## <span style=\"color:#f37826\">Table of contents</span>\n",
    "1. [LMPC](#lmpc)\n",
    "    1. [Recursive feasibility](#recursive_feasibility)\n",
    "    1. [Asymptotic stability](#asymptotic_stability)\n",
    "    1. [Improving performance](#improving_performance)\n",
    "    1. [Avoiding mixed integer optimization](#avoiding_mixed_integer_optimization)\n",
    "    1. [Model mismatch and disturbances](#model_mismatch_and_disturbances)\n",
    "1. [Numerical example](#numerical_example)\n",
    "    1. [Initial and optimal trajectory](#initial_and_optimal_trajectory)\n",
    "    1. [Set up the LMPC optimization problem](#set_up_the_lmpc_optimization_problem)\n",
    "    1. [Simulation](#simulation)\n",
    "    1. [Results](#results)\n",
    "\n",
    "## <span style=\"color:#f37826\"> Housekeeping</span>\n",
    "The following packages are required:\n",
    "- numpy $\\rightarrow$ Numerical computation\n",
    "- casadi $\\rightarrow$ Symbolic functions, algorithmic differentiation + easy to use interface to optimization routines\n",
    "- matplotlib.pyplot $\\rightarrow$ Plot graphs"
   ]
  },
  {
   "cell_type": "code",
   "execution_count": 1,
   "metadata": {},
   "outputs": [],
   "source": [
    "import numpy as np\n",
    "import casadi\n",
    "import matplotlib.pyplot as plt"
   ]
  },
  {
   "cell_type": "markdown",
   "metadata": {},
   "source": [
    "[Back to top](#title)"
   ]
  },
  {
   "cell_type": "markdown",
   "metadata": {},
   "source": [
    "## <span id=lmpc style=\"color:#00549F\"> 1. LMPC </span>\n",
    "\n",
    "The LMPC's OCP formulation differs from the standard MPC formulation in the definition of the terminal cost and the terminal state constraint (marked in blue):\n",
    "\n",
    "\\begin{align}\n",
    "    u(x) = \\arg\\min_{u_0,\\dots,u_{N-1}} \\sum_{k=0}^{N-1} &q(x_k, u_k) + \\color{#00549F}{Q^{j-1}(x_N)} \\\\\n",
    "    s.t. \\quad x_0 &= x(t) \\\\\n",
    "    x_{k+1} &= f(x_k,u_k), &\\forall k\\in[0,\\dots, N-1]\\\\\n",
    "    x_k &\\in \\mathcal{X}, &\\forall k\\in[0,\\dots, N-1] \\\\\n",
    "    u_k &\\in \\mathcal{U}, &\\forall k\\in[0,\\dots, N-1] \\\\\n",
    "    x_N &\\in\\color{#00549F}{SS^{j-1}}\n",
    "\\end{align}\n",
    "\n",
    "The last state in the prediction horizon is forced onto one of the states of the so-called sampled safe set to achieve recursive feasibility.\n",
    "The sampled safe set available at the current iteration $j$ contains all states visited in previous iterations which were successful in the sense that they drove the system into the origin.\n",
    "This set can be interpreted as a collection of real world samples of the maximal stabilizable set [[1, Chp. 10.2]](#ref1).\n",
    "Since it is collected from the actual environment, the overall algorithm is considered to \"learn from the environment\", thus Learning MPC.\n",
    "To improve performance after each iteration, the terminal cost term is defined as the terminal state's cost-to-go, which is also available from previous trials. \n",
    "\n",
    "\n",
    "### <span id=recursive_feasibility style=\"color:#00549F\">1.1 Recursive feasibility </span>\n",
    "\n",
    "__Assumptions__\n",
    "1. no disturbances\n",
    "1. no model mismatch\n",
    "1. same initial state in each iteration\n",
    "1. (potentially poor) initial feasible trajectory available ($j=0$ in figure below)\n",
    "\n",
    "__Lemmata__\n",
    "1. The initial optimization problem is feasible\n",
    "    - Since the system always starts in the same initial state and there is a feasible trajectory according to assumption 4, the initial OCP has at least one solution \n",
    "2. Given a feasible optimization problem at the current time step, the problem will also be feasible in the next time step\n",
    "    - Suppose the optimization problem for the current time step $t$ is feasible and we obtained an optimal solution $[x^\\ast_0,x^\\ast_1,x^\\ast_2]$ with corresponding inputs $[u^\\ast_0,u^\\ast_1]$ for a horizon of $N=2$\n",
    "    - Due to the terminal constraint, the last state $x_2^\\ast$ equals a state that has been visited in one of the previous trials. Since the safe set consists only of successful trajectories, there is a successor state of $x_2^\\ast$ and a control input driving the system there, so that both state and input bounds are satisfied\n",
    "    - Due to assumption 1 and 2, the system finds itself in the state $x^2(3)=x_1^\\ast$ in the next time step $t+1$\n",
    "    - The combinations of the shifted state trajectory and the successor state with least cost-to-go $[x_1^\\ast, x_2^\\ast, x^{1}(4)]$ and the shifted input sequence and the input related to the transition to the successor state $[u_1^\\ast,u^1(3)]$ represent a feasible solution. This follows as $[x_1^\\ast, x_2^\\ast]$ and $u_1^\\ast$ is known to be a feasible solution from the last optimization and $x^{1}(4)$ and $u^1(3)$ is known to be feasible from iteration $j=1$\n",
    "    - Not talking about optimality, there is a state and input trajectory satisfying all constraints. Hence, if the OCP at time $t$ is feasible, implying that $x_N$ equals a state in the safe set, also the OCP at $t+1$ is feasible\n",
    "\n",
    "__Proof via induction__\n",
    "\n",
    "$\\Rightarrow$ As the first optimization problem is feasible and all following optimization problems will be feasible, the LMPC approach guarantees recursive feasibility under the given conditions.\n",
    "\n",
    "<br>\n",
    "\n",
    "<img src=\"figures/schematic_lmpc.svg\" alt=\"schematic_lmpc\" style=\"width: 700px;\"/>\n",
    "<center> Fig. 1: Schematic lmpc </center>\n",
    "\n",
    "\n",
    "### <span id=asymptotic_stability style=\"color:#00549F\"> 1.3 Asymptotic stability </span>\n",
    "...\n",
    "\n",
    "### <span id=improving_performance style=\"color:#00549F\"> 1.4 Improving performance</span>\n",
    "...\n",
    "\n",
    "### <span id=avoiding_mixed_integer_optimization style=\"color:#00549F\"> 1.5 Avoiding mixed integer optimization </span>\n",
    "To avoid solving a mixed integer problem, the terminal constraint can be relaxed by replacing the discrete sampled safe set by its convex hull [[1, Chp. 4.1]](#ref1):\n",
    "\n",
    "\\begin{align*}\n",
    "    \\text{conv}(SS) = \\left\\{ \\sum_{i=1}^k \\lambda^i \\cdot x^i ~|~ x^i \\in SS,~\\lambda^i \\ge 0,~i=1,...,k,~\\sum_{i=1}^k \\lambda^i=1 \\right\\}\n",
    "\\end{align*}\n",
    "\n",
    "This formulation can be cast into an optimization problem by introducing three constraints and additional optimization variables $\\lambda^i$\n",
    "\\begin{align*}\n",
    "    x_N \\in SS^{j-1} \\quad \\longrightarrow \\quad &1.~x_N = \\sum_{i=1}^k \\lambda^i \\cdot x_{\\text{SS}}^i, \\\\[0.2em]\n",
    "    &2.~\\lambda^i \\ge 0, \\\\[0.2em]\n",
    "    &3.~\\sum_{i=1}^k \\lambda^i = 1\n",
    "\\end{align*}\n",
    "\n",
    "The Q values, which also only exist for the discrete states in the sampled safe set, are approximated using a barycentric interpolation [[1, Chp. 13.2]](#ref1)\n",
    "\n",
    "<span style=\"color:red\"> How does the relaxation of the mixed integer problem affect the proof for recursive feasibility? </span>\n",
    "\n",
    "### <span id=model_mismatch_and_disturbances style=\"color:#00549F\"> 1.6 Model mismatch and disturbances </span>\n",
    "<span style=\"color:red\"> How do model mismatch and bounded disturbances affect the proof for recursive feasibility? </span>\n",
    "\n",
    "<br>\n",
    "\n",
    "<span id=ref1> [1] </span> Borrelli, F., Bemporad, A., & Morari, M. (2017). _Predictive Control for Linear and Hybrid Systems._ Cambridge: Cambridge University Press. doi:10.1017/9781139061759\n",
    "\n",
    "[Back to top](#title)"
   ]
  },
  {
   "cell_type": "markdown",
   "metadata": {},
   "source": [
    "## <span id=numerical_example style=\"color:#A11035\"> 2. Numerical example </span>\n",
    "\n",
    "In the example, the linear system \n",
    "\n",
    "\\begin{align}\n",
    "    x(k+1) &= \\begin{bmatrix} 1 & 1 \\\\ 0 & 1 \\end{bmatrix} \\cdot x(k) + \\begin{bmatrix}0\\\\1\\end{bmatrix} B\\cdot u(k) \\\\[0.4em]\n",
    "    x(k) &\\in \\mathbb{R}^2 \\\\[0.2em]\n",
    "    u(k) &\\in \\mathbb{R} \\\\[0.2em]\n",
    "    x(0) &= [-14,2]^T \\\\[0.2em]\n",
    "    x_F &= [0,0]^T \n",
    "\\end{align}\n",
    "\n",
    "is supposed to be driven into the origin from the initial state $x(0)$.\n",
    "Both states and the input are subject to constraints.\n",
    "The LMPC formulation has the following form.\n",
    "\n",
    "\\begin{align}\n",
    "    \\min_{u_0,\\dots,u_{N-1}} \\sum_{k=0}^{N-1} & \\left(x_k^T\\cdot Q \\cdot x_k + u_k^T\\cdot R \\cdot u_k\\right) + Q^{j-1}(x_N) \\\\\n",
    "    s.t. \\quad x_0 &= x(t) \\\\\n",
    "    x_{k+1} &= A\\cdot x_k + B\\cdot u_k, \\qquad\\forall k\\in[0,\\dots, N-1]\\\\\n",
    "    \\underline{x} \\le x_k &\\le \\overline{x}, \\hspace{3.5cm}\\forall k\\in[0,\\dots, N-1] \\\\\n",
    "    \\underline{u} \\le u_k &\\le \\overline{u}, \\hspace{3.5cm}\\forall k\\in[0,\\dots, N-1] \\\\\n",
    "    x_N &\\in SS^{j-1}\n",
    "\\end{align}\n",
    "\n",
    "All relevant information for the simulation, dynamic system and controller are stored in the following dictionaries.\n",
    "\n",
    "__Sim__:\n",
    "- Number of iterations $\\rightarrow$ nIter\n",
    "- Numerical tolerance for which origin is considered reached $||x||_2 < \\text{tol} \\rightarrow$ tol\n",
    "- Initial state $\\rightarrow$ x0\n",
    "- Parameters for the optimization to obtain an initial feasible trajectory $\\rightarrow$ N0, xMax0, xMin0\n",
    "\n",
    "__Dyn__:\n",
    "- System dimensions $\\rightarrow$ nStates, nInputs\n",
    "- State space matrices $\\rightarrow$ A, B\n",
    "- Bounds on states and inputs $\\rightarrow$ xMax, xMin, uMax, uMin\n",
    "\n",
    "__Lmpc__:\n",
    "- Prediction horizon $\\rightarrow$ N\n",
    "- Weight matrices for quadratic cost function $\\rightarrow$ Q, R\n",
    "- Maximum array size for sampled safe set (keep dimensions of predefiend optimization problem constant) $\\rightarrow$ nSafeSet\n",
    "- QP-Solver $\\rightarrow$ solver (qpoases, osqp, qrqp, ipopt)\n",
    "- Solver options $\\rightarrow$ expand (change MX to SX), print_time"
   ]
  },
  {
   "cell_type": "code",
   "execution_count": 2,
   "metadata": {},
   "outputs": [],
   "source": [
    "Sim = { 'nIter':10, 'tol':1e-9, 'x0':[-14,2], 'N0':200, 'xMax0':[15,2], 'xMin0':[-15.-2] }\n",
    "Dyn = { 'nStates':2, 'nInputs':1, 'A': [[1.,1.], [0.,1.]], 'B': [[0.],[1.]], 'xMax': [15.0, 15.0],\n",
    "        'xMin': [-15.0, -15.0], 'uMax': [1.5], 'uMin': [-1.5],  }\n",
    "Lmpc = { 'N':4, 'Q':[[1,0],[0,1]], 'R':1, 'nSafeSet':220, 'solver':'qpoases', 'expand':True, 'print_time':False }"
   ]
  },
  {
   "cell_type": "markdown",
   "metadata": {},
   "source": [
    "### <span id=initial_and_optimal_trajectory style=\"color:#A11035\"> 2.1 Initial and optimal trajectory </span>\n",
    "The LMPC approach requires the initial sampled safe set to be non-empty.\n",
    "Therefore, an initial suboptimal solution is acquired by solving the problem with a large prediction horizon and more restrictive bounds.\n",
    "To obtain an optimal reference solution, the problem is solved using a large prediction horizon without manipulating the bounds.\n",
    "Both optimizations are run using the following function."
   ]
  },
  {
   "cell_type": "code",
   "execution_count": 3,
   "metadata": {},
   "outputs": [],
   "source": [
    "def compute_optimal_trajectory( x0, N, Q, R, A, B, xMax, xMin, uMax, uMin):\n",
    "    Ocp = casadi.Opti()\n",
    "    x_ = Ocp.variable( len(A[0]), N+1 )\n",
    "    u_ = Ocp.variable( len(B[0]), N )\n",
    "\n",
    "    ## Constraints\n",
    "    # Initial condition\n",
    "    Ocp.subject_to( x_[:,0] == x0 )\n",
    "\n",
    "    # System dynamics\n",
    "    Ocp.subject_to( x_[:,1:] == casadi.DM(Dyn['A'])@x_[:,:-1] + casadi.DM(Dyn['B'])@u_ )\n",
    "\n",
    "    # Bounds\n",
    "    Ocp.subject_to( Ocp.bounded( xMin, x_[:,:-1], xMax ) )\n",
    "    Ocp.subject_to( Ocp.bounded( uMin, u_, uMax ) )\n",
    "\n",
    "    # Terminal constraint\n",
    "    Ocp.subject_to( x_[:,-1] == [0,0] )\n",
    "\n",
    "    ## Cost\n",
    "    # Stage cost\n",
    "    cost = []\n",
    "    for ii in range(0,N):\n",
    "        cost.append( x_[:,ii].T @ casadi.DM(Lmpc['Q']) @ x_[:,ii] + u_[:,ii].T @ casadi.DM(Lmpc['R']) @ u_[:,ii] )\n",
    "\n",
    "    # Terminal cost\n",
    "    cost.append( x_[:,-1].T @ casadi.DM(Lmpc['Q']) @ x_[:,-1] )\n",
    "\n",
    "    # Solve the finite time optimal control problem (FTOCP)\n",
    "    Ocp.minimize( sum(cost) )\n",
    "    Ocp.solver( 'ipopt', {'expand':True, 'print_time':False, 'ipopt':{\"print_level\": 0}} )\n",
    "    sol = Ocp.solve()\n",
    "\n",
    "    # Store numerical solution\n",
    "    X0 = sol.value( x_ )\n",
    "    U0 = sol.value( u_ ).reshape( (1,-1) )\n",
    "    \n",
    "    return X0, U0"
   ]
  },
  {
   "cell_type": "markdown",
   "metadata": {},
   "source": [
    "Run optimizations."
   ]
  },
  {
   "cell_type": "code",
   "execution_count": 4,
   "metadata": {},
   "outputs": [
    {
     "name": "stdout",
     "output_type": "stream",
     "text": [
      "\n",
      "******************************************************************************\n",
      "This program contains Ipopt, a library for large-scale nonlinear optimization.\n",
      " Ipopt is released as open source code under the Eclipse Public License (EPL).\n",
      "         For more information visit http://projects.coin-or.org/Ipopt\n",
      "******************************************************************************\n",
      "\n"
     ]
    }
   ],
   "source": [
    "# Compute initial trajectory\n",
    "X0, U0 = compute_optimal_trajectory( Sim['x0'], Sim['N0'], Lmpc['Q'], Lmpc['R'], Dyn['A'], Dyn['B'], Sim['xMax0'], \n",
    "                                     Sim['xMin0'], Dyn['uMax'], Dyn['uMin'] )\n",
    "    \n",
    "# Compute optimal reference trajectory\n",
    "XOpt, UOpt = compute_optimal_trajectory( Sim['x0'], Sim['N0'], Lmpc['Q'], Lmpc['R'], Dyn['A'], Dyn['B'], Dyn['xMax'], \n",
    "                                         Dyn['xMin'], Dyn['uMax'], Dyn['uMin'] )"
   ]
  },
  {
   "cell_type": "markdown",
   "metadata": {},
   "source": [
    "### <span id=set_up_the_lmpc_optimization_problem style=\"color:#A11035\"> 2.2 Set up the LMPC optimization problem </span>\n",
    "During simulation, the optimization problem will only by updated by the current state, sampled safe set and cost-to-go vector to reduce the overhead of creating the solver object."
   ]
  },
  {
   "cell_type": "code",
   "execution_count": 5,
   "metadata": {},
   "outputs": [],
   "source": [
    "if Lmpc['solver'] in ['qpoases', 'osqp', 'qrqp']:\n",
    "    Ocp = casadi.Opti('conic')\n",
    "else:\n",
    "    Ocp = casadi.Opti();"
   ]
  },
  {
   "cell_type": "markdown",
   "metadata": {},
   "source": [
    "Define symbolic variables for\n",
    "- the states and inputs in the prediction horizon\n",
    "- the multipliers used for the convex hull\n",
    "- the parameters of the optimization problem that will be updated every time step (current system state)\n",
    "- the parameters of the optimization problem which will be updated after each iteration (sampled safe set and corresponding cost-to-go)"
   ]
  },
  {
   "cell_type": "code",
   "execution_count": 6,
   "metadata": {},
   "outputs": [],
   "source": [
    "xk_ = Ocp.variable( Dyn['nStates'], Lmpc['N']+1 )\n",
    "uk_ = Ocp.variable( Dyn['nInputs'], Lmpc['N'] )\n",
    "multConvexHull_ = Ocp.variable( Lmpc['nSafeSet'] )\n",
    "xReal_ = Ocp.parameter( Dyn['nStates'] )\n",
    "safeSet_ = Ocp.parameter( Dyn['nStates'], Lmpc['nSafeSet'] );\n",
    "Qk_ = Ocp.parameter( Lmpc['nSafeSet'] );"
   ]
  },
  {
   "cell_type": "markdown",
   "metadata": {},
   "source": [
    "Define constraints for\n",
    "- initial condition $x_0 = x(t)$\n",
    "- gap closing $x_{k+1} = A\\cdot x_k + B\\cdot u_k,~\\forall k=[0,\\dots,N-1]$\n",
    "- bounds on states $\\underline{x}\\le x_k \\le\\overline{x},~\\forall k=[0,\\dots,N-1]$\n",
    "- bounds on inputs $\\underline{u}\\le u_k \\le\\overline{u},~\\forall k=[0,\\dots,N-1]$\n",
    "- enforcing last state to be inside the convex hull of the sampled safe set $x_N \\in SS^{j-1}$ which introduces three additional constraints (see [1.5](#avoiding_mixed_integer_optimization))"
   ]
  },
  {
   "cell_type": "code",
   "execution_count": 7,
   "metadata": {},
   "outputs": [],
   "source": [
    "Ocp.subject_to( xk_[:,0] == xReal_ )\n",
    "Ocp.subject_to( xk_[:,1:] == casadi.DM(Dyn['A'])@xk_[:,:-1] + casadi.DM(Dyn['B'])@uk_ )\n",
    "Ocp.subject_to( Ocp.bounded( Dyn['xMin'], xk_, Dyn['xMax'] ) )\n",
    "Ocp.subject_to( Ocp.bounded( Dyn['uMin'], uk_, Dyn['uMax'] ) )\n",
    "Ocp.subject_to( xk_[:,Lmpc['N']] == safeSet_@multConvexHull_ )\n",
    "Ocp.subject_to( multConvexHull_ >= 0 )\n",
    "Ocp.subject_to( casadi.sum1(multConvexHull_) == 1 )"
   ]
  },
  {
   "cell_type": "markdown",
   "metadata": {},
   "source": [
    "Define stage and terminal cost. The latter is computed using a barycentric approximation."
   ]
  },
  {
   "cell_type": "code",
   "execution_count": 8,
   "metadata": {},
   "outputs": [],
   "source": [
    "cost = [];\n",
    "for ii in range(0, Lmpc['N']):\n",
    "    cost.append( xk_[:,ii].T @ casadi.DM(Lmpc['Q']) @ xk_[:,ii] + uk_[:,ii].T @ casadi.DM(Lmpc['R']) @ uk_[:,ii] )\n",
    "\n",
    "cost.append( Qk_.T @ multConvexHull_ )\n",
    "\n",
    "Ocp.minimize( sum(cost) )"
   ]
  },
  {
   "cell_type": "markdown",
   "metadata": {},
   "source": [
    "Set solver and pass appropriate solver options."
   ]
  },
  {
   "cell_type": "code",
   "execution_count": 9,
   "metadata": {},
   "outputs": [],
   "source": [
    "if Lmpc['solver']=='qpoases':\n",
    "    Ocp.solver('qpoases', {'expand':Lmpc['expand'], 'printLevel':'low'} )\n",
    "elif Lmpc['solver']=='osqp':\n",
    "    Ocp.solver('osqp', {'expand':Lmpc['expand'] } )\n",
    "elif Lmpc['solver']=='qrqp':\n",
    "    Ocp.solver('qrqp', {'expand':Lmpc['expand'], 'printLevel':'low'} )\n",
    "elif Lmpc['solver']=='ipopt':\n",
    "    Ocp.solver('ipopt', {'expand':Lmpc['expand'], 'print_time':Lmpc['print_time'], 'ipopt':{\"print_level\": 0}})\n",
    "else:\n",
    "    print('Selected solver not available')"
   ]
  },
  {
   "cell_type": "markdown",
   "metadata": {},
   "source": [
    "### <span id=simulation style=\"color:#A11035\"> 2.3 Simulation </span>\n",
    "Define helper function to compute the cost-to-go for a given trajectory."
   ]
  },
  {
   "cell_type": "code",
   "execution_count": 10,
   "metadata": {},
   "outputs": [],
   "source": [
    "def compute_cost( x, u, Q, R ):\n",
    "    cost = np.zeros( x.shape[1] )    \n",
    "    cost[0] = np.dot( x[:,-1], np.dot(Q, x[:,-1]) )\n",
    "\n",
    "    for ii in range(1, x.shape[1]):\n",
    "        cost[ii] = cost[ii-1] + np.dot( x[:,-1-ii], np.dot(Q,x[:,-1-ii])) + np.dot( u[:,-ii], np.dot(R,u[:,-ii]) )\n",
    "    \n",
    "    return np.flip(cost)"
   ]
  },
  {
   "cell_type": "markdown",
   "metadata": {},
   "source": [
    "Initialize arrays for states, inputs, cost-to-go, the sampled safe set and the corresponding cost-to-go."
   ]
  },
  {
   "cell_type": "code",
   "execution_count": 11,
   "metadata": {},
   "outputs": [],
   "source": [
    "X = [[] for k in range(Sim['nIter']) ]\n",
    "U = [[] for k in range(Sim['nIter']) ]\n",
    "Q = [None]*Sim['nIter']\n",
    "data = {'x':np.append( X0, np.zeros((Dyn['nStates'],Lmpc['nSafeSet']-X0.shape[1])), axis=1 ),\n",
    "        'Q':np.append( compute_cost( X0, U0, Lmpc['Q'], Lmpc['R'] ), np.zeros(Lmpc['nSafeSet']-X0.shape[1])) }"
   ]
  },
  {
   "cell_type": "markdown",
   "metadata": {},
   "source": [
    "Run simulation."
   ]
  },
  {
   "cell_type": "code",
   "execution_count": 12,
   "metadata": {},
   "outputs": [
    {
     "name": "stdout",
     "output_type": "stream",
     "text": [
      "Iteration j= 0: Cumulative cost = 587.69922 (initial trajectory)\n",
      "Iteration j= 1: Cumulative cost = 484.18534\n",
      "Iteration j= 2: Cumulative cost = 484.18382\n",
      "Iteration j= 3: Cumulative cost = 484.18354\n",
      "Iteration j= 4: Cumulative cost = 484.18347\n",
      "Iteration j= 5: Cumulative cost = 484.18345\n",
      "Iteration j= 6: Cumulative cost = 484.18344\n",
      "Iteration j= 7: Cumulative cost = 484.18344\n",
      "Iteration j= 8: Cumulative cost = 484.18344\n",
      "Iteration j= 9: Cumulative cost = 484.18344\n",
      "Iteration j=10: Cumulative cost = 484.18344\n"
     ]
    }
   ],
   "source": [
    "print( 'Iteration j= 0: Cumulative cost = {0:2.5f} (initial trajectory)'.format(data['Q'][0]) )\n",
    "\n",
    "for jj in range(0,Sim['nIter']):\n",
    "    \n",
    "    # Reset exit flag\n",
    "    exitFlag = 0\n",
    "    \n",
    "    # Set initial time index\n",
    "    tt = 0\n",
    "    \n",
    "    # Set initial state\n",
    "    X[jj].append( Sim['x0'] )\n",
    "    \n",
    "    # Update ocp parameters for current iteration jj\n",
    "    Ocp.set_value( safeSet_, data['x'] )\n",
    "    Ocp.set_value( Qk_, data['Q'] )\n",
    "\n",
    "    while exitFlag==0:\n",
    "        # Update ocp parameters for current time step tt\n",
    "        Ocp.set_value( xReal_, X[jj][-1] )\n",
    "\n",
    "        # Solve the FTOCP at time tt of the jj-th iteration\n",
    "        sol = Ocp.solve()\n",
    "\n",
    "        # Simulate one step of the environment/ dynamic system\n",
    "        U[jj].append( [sol.value(uk_[:,0])] )\n",
    "        X[jj].append( np.add( np.dot(Dyn['A'],X[jj][-1]), np.dot(Dyn['B'],U[jj][-1]) ) )\n",
    "        \n",
    "        # Check termination conditions\n",
    "        if np.dot( X[jj][-1], X[jj][-1] ) < Sim['tol']:\n",
    "            exitFlag = 1\n",
    "\n",
    "        # Increment time index\n",
    "        tt += 1;\n",
    "\n",
    "    # Compute cost-to-go for each state of iteration jj\n",
    "    Q[jj] = compute_cost( np.array(X[jj]).T, np.array(U[jj]).T, Lmpc['Q'], Lmpc['R'] )\n",
    "    \n",
    "    print( 'Iteration j={0:2d}: Cumulative cost = {1:2.5f}'.format(jj+1, Q[jj][0]) )\n",
    "\n",
    "    # Update safe set and Q function only for state values that are sufficiently different\n",
    "    indLastValue = np.argmax(data['Q']==0)\n",
    "    for ii in range( 0, len(X[jj]) ):\n",
    "        if not any( np.linalg.norm( data['x'] - np.reshape(X[jj][ii],(2,1)), axis=0 )< 1e-06 ):\n",
    "            data['x'][:,indLastValue+ii] = X[jj][ii]\n",
    "            data['Q'][indLastValue+ii] = Q[jj][ii]"
   ]
  },
  {
   "cell_type": "markdown",
   "metadata": {},
   "source": [
    "### <span id='results' style=\"color:#A11035\"> 2.4 Results </span>\n",
    "The simulation results for the simple example show that a stationary solution is found in the first iteration.\n",
    "All trajectories are plotted, but only the initial guess and the last iteration are added to the legend.\n",
    "The intermediate solutions are not visible due to the fact that they are entirely covered by the last iteration."
   ]
  },
  {
   "cell_type": "code",
   "execution_count": 13,
   "metadata": {},
   "outputs": [
    {
     "data": {
      "image/png": "[encoded data removed]",
      "text/plain": [
       "<Figure size 1152x360 with 3 Axes>"
      ]
     },
     "metadata": {
      "needs_background": "light"
     },
     "output_type": "display_data"
    }
   ],
   "source": [
    "fig, (ax11,ax12,ax13) = plt.subplots( 1, 3, figsize=(16,5), constrained_layout=True )\n",
    "ax11.set( title='Phase plot - evolution over iterations', xlim=(-16,2), ylim=(-1,5), xlabel='x1', ylabel='x2'); ax11.grid(True)\n",
    "ax12.set( title='State trajectory - evolution over iterations', xlim=(0,16), ylim=(-15,10), xlabel='Time index k', ylabel='x1/x2' ); ax12.grid(True)\n",
    "ax13.set( title='Input trajectory - evolution over iterations', xlim=(0,16), ylim=(-2,2), xlabel=('Time index k'), ylabel='u' ); ax13.grid(True)\n",
    "\n",
    "# Phase plot\n",
    "ax11.plot( X0[0,:], X0[1,:], marker='D', label='x1-x2, j=0' )\n",
    "for list_i in X[0:-1]:\n",
    "    ax11.plot( np.array(list_i)[:,0], np.array(list_i)[:,1] )\n",
    "ax11.plot( np.array(X[-1])[:,0], np.array(X[-1])[:,1], color='k', marker='o', label='x1-x2, j={0:d}'.format(Sim['nIter']) )\n",
    "ax11.legend(); ax11.annotate( 'x0', (-14.4, 1.55) ); ax11.annotate( 'xF', (-0.2, -0.45) )\n",
    "\n",
    "# State trajectories\n",
    "p121 = ax12.plot( X0.T, marker='D', label='j=0' )\n",
    "for list_i in X[0:-1]:\n",
    "    ax12.plot( np.array(list_i) )\n",
    "p122 = ax12.plot( np.array(X[-1])[:,0], color='k', marker='o', label='j={0:d}'.format(Sim['nIter']) )\n",
    "p123 = ax12.plot( np.array(X[-1])[:,1], color=(0,84/255,159/255), marker='o', label='j={0:d}'.format(Sim['nIter']) )\n",
    "ax12.legend( handles=[p121[0],p121[1],p122[0],p123[0]], labels=('x1, j=0','x2, j=0','x1, j={0:d}'.format(Sim['nIter']),'x2, j={0:d}'.format(Sim['nIter'])) )\n",
    "\n",
    "# Input trajectories\n",
    "ax13.plot( U0[0,0:20].T, marker='D', label='u, j=0' )\n",
    "for list_i in U[0:-1]:\n",
    "    ax13.plot( np.array(list_i)  )    \n",
    "ax13.plot( np.array(U[-1]), color='k', marker='o', label='u, j={0:d}'.format(Sim['nIter']) )\n",
    "ax13.legend();"
   ]
  },
  {
   "cell_type": "markdown",
   "metadata": {},
   "source": [
    "Comparing the last iteration of the simulation using the LMPC controller to the optimal solution obtained in [2.1](#initial_and_optimal_trajectory) shows that the resulting stationary trajectory is close to the optimal solution."
   ]
  },
  {
   "cell_type": "code",
   "execution_count": 14,
   "metadata": {
    "scrolled": false
   },
   "outputs": [
    {
     "data": {
      "image/png": "[encoded data removed]",
      "text/plain": [
       "<Figure size 1152x360 with 3 Axes>"
      ]
     },
     "metadata": {
      "needs_background": "light"
     },
     "output_type": "display_data"
    }
   ],
   "source": [
    "# Prepare figure\n",
    "fig, (ax21,ax22,ax23) = plt.subplots( 1, 3, constrained_layout=True, figsize=(16,5) )\n",
    "ax21.set( title='Phase plot - Comparison to optimal solution', xlim=(-16,2), ylim=(-1,5), xlabel='x1', ylabel='x2' ); ax21.grid(True)\n",
    "ax22.set( title='State trajectory - Comparison to optimal solution', xlim=(0,16), ylim=(-15,10), xlabel='Time index k', ylabel='x1/x2' ); ax22.grid(True)\n",
    "ax23.set( title='Input trajectory - Comparison to optimal solution', xlim=(0,16), ylim=(-2,2), xlabel=('Time index k'), ylabel='u' ); ax23.grid(True)\n",
    "\n",
    "# Phase plot \n",
    "ax21.plot( XOpt[0,:], XOpt[1,:], marker='D', markersize=10, label='x1-x2, opt' )\n",
    "ax21.plot( np.array(X[-1])[:,0], np.array(X[-1])[:,1], color='k', marker='o', label='x1-x2, j={0:d}'.format(Sim['nIter']) )\n",
    "ax21.legend(); ax21.annotate( 'x0', (-14.4, 1.55) ); ax21.annotate( 'xF', (-0.2, -0.45) )\n",
    "\n",
    "# State trajectories\n",
    "p221 = ax22.plot( XOpt.T, marker='D', markersize=10 )\n",
    "p222 = ax22.plot( np.array(X[-1])[:,0], color='k', marker='o', label='j={0:d}'.format(Sim['nIter']) )\n",
    "p223 = ax22.plot( np.array(X[-1])[:,1], color=(0,84/255,159/255), marker='o', label='j={0:d}'.format(Sim['nIter']) )\n",
    "ax22.legend( handles=[p221[0],p221[1],p222[0],p223[0]], labels=('x1, opt','x2, opt','x1, j={0:d}'.format(Sim['nIter']),'x2, j={0:d}'.format(Sim['nIter'])) )\n",
    "\n",
    "# Input trajectories\n",
    "ax23.plot( UOpt.T, marker='D', markersize=10, label='u, opt' )\n",
    "ax23.plot( np.array(U[-1]), color='k', marker='o', label='u, j={0:d}'.format(Sim['nIter']) )\n",
    "ax23.legend();"
   ]
  },
  {
   "cell_type": "markdown",
   "metadata": {},
   "source": [
    "A look at the overall cost over the iteration reinforces the previous remarks.\n",
    "The stationary solution is basically reached after the first iteration and is practically equal to the optimal solution."
   ]
  },
  {
   "cell_type": "code",
   "execution_count": 15,
   "metadata": {},
   "outputs": [
    {
     "data": {
      "image/png": "[encoded data removed]",
      "text/plain": [
       "<Figure size 1152x360 with 1 Axes>"
      ]
     },
     "metadata": {
      "needs_background": "light"
     },
     "output_type": "display_data"
    }
   ],
   "source": [
    "overallCost = [data['Q'][0]]\n",
    "for q in Q:\n",
    "    overallCost.append( q[0] )\n",
    "costOpt = compute_cost(XOpt, UOpt, Lmpc['Q'], Lmpc['R'])[0]\n",
    "                  \n",
    "plt.figure( figsize=(16,5) )\n",
    "plt.plot( np.arange(0,Sim['nIter']+1), overallCost, marker='o', label='LMPC' )\n",
    "plt.plot( np.arange(0,Sim['nIter']+1), np.tile(costOpt,(Sim['nIter']+1,1)), color='r', label='Opt' )\n",
    "\n",
    "ax3 = plt.gca(); ax3.set( xlim=(0,Sim['nIter']), ylim=(450,600), xlabel=('Iteration j'), ylabel='J(x0)', title='Total cost', xticks=np.arange(0,Sim['nIter']+1) ); ax3.grid(True)\n",
    "ax3.legend(); ax3.annotate( 'Delta cost: {0:2.2e}'.format( overallCost[-1]-costOpt), (8, 500), size=12, bbox=dict(facecolor='red', alpha=0.5, edgecolor='red') );"
   ]
  },
  {
   "cell_type": "markdown",
   "metadata": {},
   "source": [
    "[Back to top](#title)"
   ]
  }
 ],
 "metadata": {
  "@webio": {
   "lastCommId": null,
   "lastKernelId": null
  },
  "kernelspec": {
   "display_name": "Python 3",
   "language": "python",
   "name": "python3"
  },
  "language_info": {
   "codemirror_mode": {
    "name": "ipython",
    "version": 3
   },
   "file_extension": ".py",
   "mimetype": "text/x-python",
   "name": "python",
   "nbconvert_exporter": "python",
   "pygments_lexer": "ipython3",
   "version": "3.8.5"
  },
  "widgets": {
   "application/vnd.jupyter.widget-state+json": {
    "state": {
     "05a90542f3c14b1aa24ef72896f68b12": {
      "model_module": "@jupyter-widgets/controls",
      "model_module_version": "1.5.0",
      "model_name": "HBoxModel",
      "state": {
       "children": [
        "IPY_MODEL_5d04890fc23a4937a336c16757928e41",
        "IPY_MODEL_2cfc5cb78f5842e18e110ecaadb2382c"
       ],
       "layout": "IPY_MODEL_7bf697f0fe8d47159de12d233ec9429e"
      }
     },
     "11893500302d495f867461777629f985": {
      "model_module": "@jupyter-widgets/output",
      "model_module_version": "1.0.0",
      "model_name": "OutputModel",
      "state": {
       "layout": "IPY_MODEL_4971cb5b3dea4dd3bfe9b22fe774ab3c",
       "outputs": [
        {
         "name": "stdout",
         "output_type": "stream",
         "text": "\u001b[1mOutput variable MX:\u001b[0m\nzMx = mac(AMx,bMx,zeros(2x1)) \n\n\u001b[1mExpression graph MX:\u001b[0m\nzMxFun:(i0[2x2],i1[2])->(o0[2]) MXFunction\nAlgorithm:\n@0 = zeros(2x1)\n@1 = input[0][0]\n@2 = input[1][0]\n@0 = mac(@1,@2,@0)\noutput[0][0] = @0"
        }
       ]
      }
     },
     "1aa3aa7140e84b4787160b9e1a98839b": {
      "model_module": "@jupyter-widgets/output",
      "model_module_version": "1.0.0",
      "model_name": "OutputModel",
      "state": {
       "layout": "IPY_MODEL_334cb149ca9c4804af9aae5c5b6ff9a5",
       "outputs": [
        {
         "name": "stdout",
         "output_type": "stream",
         "text": "\u001b[1mOutput variable SX:\u001b[0m\nzSx = [((ASx_0*bSx_0)+(ASx_2*bSx_1)), ((ASx_1*bSx_0)+(ASx_3*bSx_1))] \n\n\u001b[1mExpression graph SX:\u001b[0m\nfSxFun:(i0[2x2],i1[2])->(o0[2]) SXFunction\nAlgorithm:\n@0 = input[0][0];\n@1 = input[1][0];\n@0 = (@0*@1);\n@2 = input[0][2];\n@3 = input[1][1];\n@2 = (@2*@3);\n@0 = (@0+@2);\noutput[0][0] = @0;\n@0 = input[0][1];\n@0 = (@0*@1);\n@1 = input[0][3];\n@1 = (@1*@3);\n@0 = (@0+@1);\noutput[0][1] = @0;"
        }
       ]
      }
     },
     "1c0f065d3b2f44788e75b863704a458b": {
      "model_module": "@jupyter-widgets/base",
      "model_module_version": "1.2.0",
      "model_name": "LayoutModel",
      "state": {
       "width": "50%"
      }
     },
     "1c181bc10dd94fb2a441e19ab07b8af1": {
      "model_module": "@jupyter-widgets/base",
      "model_module_version": "1.2.0",
      "model_name": "LayoutModel",
      "state": {}
     },
     "1ccbb28edc684d00a5d730aa82e09940": {
      "model_module": "@jupyter-widgets/controls",
      "model_module_version": "1.5.0",
      "model_name": "HBoxModel",
      "state": {
       "children": [
        "IPY_MODEL_f991b027d308456ba15f0f435b3f01d1",
        "IPY_MODEL_63efa7286f234132afd67033bb39c39f"
       ],
       "layout": "IPY_MODEL_1c181bc10dd94fb2a441e19ab07b8af1"
      }
     },
     "1ffe9b54b4de4724ba87ac0728a8f531": {
      "model_module": "@jupyter-widgets/output",
      "model_module_version": "1.0.0",
      "model_name": "OutputModel",
      "state": {
       "layout": "IPY_MODEL_e73ac314c43a4f55a2ca4c9026f4c765",
       "outputs": [
        {
         "name": "stdout",
         "output_type": "stream",
         "text": "\u001b[1mOutput variable MX with SX:\u001b[0m\n[((ASx_0*bSx_0)+(ASx_2*bSx_1)), ((ASx_1*bSx_0)+(ASx_3*bSx_1))] \n\n\u001b[1mCalling MX with SX:\u001b[0m\nmxWithSxFun:(i0[2x2],i1[2])->(o0[2]) SXFunction\nAlgorithm:\n@0 = input[0][0];\n@1 = input[1][0];\n@0 = (@0*@1);\n@2 = input[0][2];\n@3 = input[1][1];\n@2 = (@2*@3);\n@0 = (@0+@2);\noutput[0][0] = @0;\n@0 = input[0][1];\n@0 = (@0*@1);\n@1 = input[0][3];\n@1 = (@1*@3);\n@0 = (@0+@1);\noutput[0][1] = @0;None\n"
        }
       ]
      }
     },
     "281981214260486cba0047442e7cdf77": {
      "model_module": "@jupyter-widgets/base",
      "model_module_version": "1.2.0",
      "model_name": "LayoutModel",
      "state": {
       "width": "50%"
      }
     },
     "2cfc5cb78f5842e18e110ecaadb2382c": {
      "model_module": "@jupyter-widgets/output",
      "model_module_version": "1.0.0",
      "model_name": "OutputModel",
      "state": {
       "layout": "IPY_MODEL_7705b746cee74709aaeec8d46262e1bc",
       "outputs": [
        {
         "name": "stdout",
         "output_type": "stream",
         "text": "\u001b[1mExpanded expression graph inlined:\u001b[0m\nzFunV1:(i0,i1)->(o0) MXFunction\nAlgorithm:\n@0 = 4\n@1 = input[0][0]\n@1 = (2.*@1)\n@2 = input[1][0]\n@1 = (@1+@2)\n@1 = (@1*@2)\n@0 = (@0*@1)\noutput[0][0] = @0None\n"
        }
       ]
      }
     },
     "2f33817265a34c19b8074a3e4e74fb29": {
      "model_module": "@jupyter-widgets/controls",
      "model_module_version": "1.5.0",
      "model_name": "HBoxModel",
      "state": {
       "children": [
        "IPY_MODEL_1aa3aa7140e84b4787160b9e1a98839b",
        "IPY_MODEL_11893500302d495f867461777629f985"
       ],
       "layout": "IPY_MODEL_5b1c2dd2baa04a688df4a4c0da7d466d"
      }
     },
     "30d98376911844b683558aa60039bb34": {
      "model_module": "@jupyter-widgets/base",
      "model_module_version": "1.2.0",
      "model_name": "LayoutModel",
      "state": {
       "width": "50%"
      }
     },
     "334cb149ca9c4804af9aae5c5b6ff9a5": {
      "model_module": "@jupyter-widgets/base",
      "model_module_version": "1.2.0",
      "model_name": "LayoutModel",
      "state": {
       "width": "50%"
      }
     },
     "3b6a415a12c84b8e8c41ae1f67a25a82": {
      "model_module": "@jupyter-widgets/output",
      "model_module_version": "1.0.0",
      "model_name": "OutputModel",
      "state": {
       "layout": "IPY_MODEL_89b0028dea8b411998e405648ebcec3a",
       "outputs": [
        {
         "name": "stdout",
         "output_type": "stream",
         "text": "\u001b[1mCall zFunInline(2*x, y):\u001b[0m\nsin(((2.*x)*y)) \n\n\u001b[1mUse zFun.call with appropriate arguments:\u001b[0m\n[MX(sin(((2.*x)*y)))] \n\n\u001b[1mUse casadi.substitute:\u001b[0m\nsin(((2.*x)*y)) \n\n"
        }
       ]
      }
     },
     "3e9a306888994a5b9205166a2d090d94": {
      "model_module": "@jupyter-widgets/base",
      "model_module_version": "1.2.0",
      "model_name": "LayoutModel",
      "state": {}
     },
     "3f3c27ce344d44ae8dbc9f4ea7a4fb03": {
      "model_module": "@jupyter-widgets/base",
      "model_module_version": "1.2.0",
      "model_name": "LayoutModel",
      "state": {}
     },
     "4971cb5b3dea4dd3bfe9b22fe774ab3c": {
      "model_module": "@jupyter-widgets/base",
      "model_module_version": "1.2.0",
      "model_name": "LayoutModel",
      "state": {
       "width": "50%"
      }
     },
     "55f5e55fa5684c478617001e50354952": {
      "model_module": "@jupyter-widgets/output",
      "model_module_version": "1.0.0",
      "model_name": "OutputModel",
      "state": {
       "layout": "IPY_MODEL_7e41925d1f5449f495ebc0c086a7bd99",
       "outputs": [
        {
         "name": "stdout",
         "output_type": "stream",
         "text": "\u001b[1mExpression graph with inlined:\u001b[0m\nzFunV1:(i0,i1)->(o0) MXFunction\nAlgorithm:\n@0 = 4\n@1 = input[0][0]\n@1 = (2.*@1)\n@2 = input[1][0]\n@1 = (@1+@2)\n@1 = (@1*@2)\n@0 = (@0*@1)\noutput[0][0] = @0None\n"
        }
       ]
      }
     },
     "5b1c2dd2baa04a688df4a4c0da7d466d": {
      "model_module": "@jupyter-widgets/base",
      "model_module_version": "1.2.0",
      "model_name": "LayoutModel",
      "state": {}
     },
     "5d04890fc23a4937a336c16757928e41": {
      "model_module": "@jupyter-widgets/output",
      "model_module_version": "1.0.0",
      "model_name": "OutputModel",
      "state": {
       "layout": "IPY_MODEL_5f4c824d93d34448911a0cd50863ab97",
       "outputs": [
        {
         "name": "stdout",
         "output_type": "stream",
         "text": "\u001b[1mExpression graph not inlined:\u001b[0m\nzFunV1:(i0,i1)->(o0) MXFunction\nAlgorithm:\n@0 = input[0][0]\n@0 = (2.*@0)\n@1 = input[1][0]\n@2 = zFun(@0, @1)\noutput[0][0] = @2None\n"
        }
       ]
      }
     },
     "5f4c824d93d34448911a0cd50863ab97": {
      "model_module": "@jupyter-widgets/base",
      "model_module_version": "1.2.0",
      "model_name": "LayoutModel",
      "state": {
       "width": "50%"
      }
     },
     "60c047ce0a6b4fc1ab3e432e1b684ceb": {
      "model_module": "@jupyter-widgets/base",
      "model_module_version": "1.2.0",
      "model_name": "LayoutModel",
      "state": {
       "width": "50%"
      }
     },
     "624be7fdf38b42c59c5c1b553262974c": {
      "model_module": "@jupyter-widgets/output",
      "model_module_version": "1.0.0",
      "model_name": "OutputModel",
      "state": {
       "layout": "IPY_MODEL_62e7c3bcd5c548a690ebf0f9c27007c2",
       "outputs": [
        {
         "name": "stdout",
         "output_type": "stream",
         "text": "\u001b[1mExpression graph SX:\u001b[0m\nzFunV1:(i0,i1)->(o0) MXFunction\nAlgorithm:\n@0 = input[0][0]\n@0 = (2.*@0)\n@1 = input[1][0]\n@2 = zFun(@0, @1)\noutput[0][0] = @2None\n"
        }
       ]
      }
     },
     "62e7c3bcd5c548a690ebf0f9c27007c2": {
      "model_module": "@jupyter-widgets/base",
      "model_module_version": "1.2.0",
      "model_name": "LayoutModel",
      "state": {
       "width": "50%"
      }
     },
     "63efa7286f234132afd67033bb39c39f": {
      "model_module": "@jupyter-widgets/output",
      "model_module_version": "1.0.0",
      "model_name": "OutputModel",
      "state": {
       "layout": "IPY_MODEL_9186618f12154f7c89163473081d4f7c",
       "outputs": [
        {
         "name": "stdout",
         "output_type": "stream",
         "text": "\u001b[1mExpression graph with inlining:\u001b[0m\nzFunV1:(i0,i1)->(o0) MXFunction\nAlgorithm:\n@0 = 4\n@1 = input[0][0]\n@1 = (2.*@1)\n@2 = input[1][0]\n@1 = (@1+@2)\n@1 = (@1*@2)\n@0 = (@0*@1)\noutput[0][0] = @0None\n"
        }
       ]
      }
     },
     "6943e3ad3f6c4aeabb03b59c2e4dca72": {
      "model_module": "@jupyter-widgets/output",
      "model_module_version": "1.0.0",
      "model_name": "OutputModel",
      "state": {
       "layout": "IPY_MODEL_30d98376911844b683558aa60039bb34",
       "outputs": [
        {
         "name": "stdout",
         "output_type": "stream",
         "text": "\u001b[1mExpression graph SX:\u001b[0m\nfSxFun:(i0[2x2],i1[2])->(o0[2]) SXFunction\nAlgorithm:\n@0 = input[0][0];\n@1 = input[1][0];\n@0 = (@0*@1);\n@2 = input[0][2];\n@3 = input[1][1];\n@2 = (@2*@3);\n@0 = (@0+@2);\noutput[0][0] = @0;\n@0 = input[0][1];\n@0 = (@0*@1);\n@1 = input[0][3];\n@1 = (@1*@3);\n@0 = (@0+@1);\noutput[0][1] = @0;None\n"
        }
       ]
      }
     },
     "699a95f946354f0ea3b8b83bb46b0a39": {
      "model_module": "@jupyter-widgets/output",
      "model_module_version": "1.0.0",
      "model_name": "OutputModel",
      "state": {
       "layout": "IPY_MODEL_60c047ce0a6b4fc1ab3e432e1b684ceb",
       "outputs": [
        {
         "name": "stdout",
         "output_type": "stream",
         "text": "\u001b[1mCall zFun(2*x, y):\u001b[0m\nzFun((2.*x), y){0} \n\n\u001b[1mUse zFun.call:\u001b[0m\n[MX(zFun((2.*x), y){0})] \n\n"
        }
       ]
      }
     },
     "7705b746cee74709aaeec8d46262e1bc": {
      "model_module": "@jupyter-widgets/base",
      "model_module_version": "1.2.0",
      "model_name": "LayoutModel",
      "state": {
       "width": "50%"
      }
     },
     "77f27ff47e2847cd9bb856221b922481": {
      "model_module": "@jupyter-widgets/base",
      "model_module_version": "1.2.0",
      "model_name": "LayoutModel",
      "state": {}
     },
     "7bf697f0fe8d47159de12d233ec9429e": {
      "model_module": "@jupyter-widgets/base",
      "model_module_version": "1.2.0",
      "model_name": "LayoutModel",
      "state": {}
     },
     "7e41925d1f5449f495ebc0c086a7bd99": {
      "model_module": "@jupyter-widgets/base",
      "model_module_version": "1.2.0",
      "model_name": "LayoutModel",
      "state": {
       "width": "50%"
      }
     },
     "801f84d5fd304871b513037e14671097": {
      "model_module": "@jupyter-widgets/controls",
      "model_module_version": "1.5.0",
      "model_name": "HBoxModel",
      "state": {
       "children": [
        "IPY_MODEL_699a95f946354f0ea3b8b83bb46b0a39",
        "IPY_MODEL_3b6a415a12c84b8e8c41ae1f67a25a82"
       ],
       "layout": "IPY_MODEL_db64e3887296485f8ad8d64e23033240"
      }
     },
     "89b0028dea8b411998e405648ebcec3a": {
      "model_module": "@jupyter-widgets/base",
      "model_module_version": "1.2.0",
      "model_name": "LayoutModel",
      "state": {
       "width": "50%"
      }
     },
     "8fde1d00d36e44fa9a62e4602acb2679": {
      "model_module": "@jupyter-widgets/controls",
      "model_module_version": "1.5.0",
      "model_name": "HBoxModel",
      "state": {
       "children": [
        "IPY_MODEL_fe0969a9d1484cc188448058bab64fa1",
        "IPY_MODEL_1ffe9b54b4de4724ba87ac0728a8f531"
       ],
       "layout": "IPY_MODEL_db8aa8b297c7475b87374af05c44f3fb"
      }
     },
     "9186618f12154f7c89163473081d4f7c": {
      "model_module": "@jupyter-widgets/base",
      "model_module_version": "1.2.0",
      "model_name": "LayoutModel",
      "state": {
       "width": "50%"
      }
     },
     "9f54cb40bdcd49f9a53b2fe35fee5195": {
      "model_module": "@jupyter-widgets/output",
      "model_module_version": "1.0.0",
      "model_name": "OutputModel",
      "state": {
       "layout": "IPY_MODEL_fcaff158461b46aaa4120bc6e7a35fce",
       "outputs": [
        {
         "name": "stdout",
         "output_type": "stream",
         "text": "\u001b[1mExpression graph without inlining:\u001b[0m\nzFunV1:(i0,i1)->(o0) MXFunction\nAlgorithm:\n@0 = input[0][0]\n@0 = (2.*@0)\n@1 = input[1][0]\n@2 = zFun(@0, @1)\noutput[0][0] = @2None\n"
        }
       ]
      }
     },
     "ac12996cdbf346a2a81cbbb6b8381a4b": {
      "model_module": "@jupyter-widgets/controls",
      "model_module_version": "1.5.0",
      "model_name": "HBoxModel",
      "state": {
       "children": [
        "IPY_MODEL_6943e3ad3f6c4aeabb03b59c2e4dca72",
        "IPY_MODEL_f34a48b677c945678a2b91cee403e1ce"
       ],
       "layout": "IPY_MODEL_77f27ff47e2847cd9bb856221b922481"
      }
     },
     "acfb0681c9064ad79a3484b7b7b41354": {
      "model_module": "@jupyter-widgets/controls",
      "model_module_version": "1.5.0",
      "model_name": "HBoxModel",
      "state": {
       "children": [
        "IPY_MODEL_9f54cb40bdcd49f9a53b2fe35fee5195",
        "IPY_MODEL_55f5e55fa5684c478617001e50354952"
       ],
       "layout": "IPY_MODEL_3f3c27ce344d44ae8dbc9f4ea7a4fb03"
      }
     },
     "b73436ac5315417fad4c29ec5392fd55": {
      "model_module": "@jupyter-widgets/base",
      "model_module_version": "1.2.0",
      "model_name": "LayoutModel",
      "state": {
       "width": "50%"
      }
     },
     "cda2fc389e9744a49c1ccaec0f4c4e0a": {
      "model_module": "@jupyter-widgets/base",
      "model_module_version": "1.2.0",
      "model_name": "LayoutModel",
      "state": {
       "width": "50%"
      }
     },
     "da183a57e85a4b14a6691de9af385307": {
      "model_module": "@jupyter-widgets/controls",
      "model_module_version": "1.5.0",
      "model_name": "HBoxModel",
      "state": {
       "children": [
        "IPY_MODEL_624be7fdf38b42c59c5c1b553262974c",
        "IPY_MODEL_eb604f8cbc214a7d8e651feb4af96e6c"
       ],
       "layout": "IPY_MODEL_3e9a306888994a5b9205166a2d090d94"
      }
     },
     "db64e3887296485f8ad8d64e23033240": {
      "model_module": "@jupyter-widgets/base",
      "model_module_version": "1.2.0",
      "model_name": "LayoutModel",
      "state": {}
     },
     "db8aa8b297c7475b87374af05c44f3fb": {
      "model_module": "@jupyter-widgets/base",
      "model_module_version": "1.2.0",
      "model_name": "LayoutModel",
      "state": {}
     },
     "e73ac314c43a4f55a2ca4c9026f4c765": {
      "model_module": "@jupyter-widgets/base",
      "model_module_version": "1.2.0",
      "model_name": "LayoutModel",
      "state": {
       "width": "50%"
      }
     },
     "eb604f8cbc214a7d8e651feb4af96e6c": {
      "model_module": "@jupyter-widgets/output",
      "model_module_version": "1.0.0",
      "model_name": "OutputModel",
      "state": {
       "layout": "IPY_MODEL_281981214260486cba0047442e7cdf77",
       "outputs": [
        {
         "name": "stdout",
         "output_type": "stream",
         "text": "\u001b[1mExpanded expression graph MX:\u001b[0m\nzFunV1:(i0,i1)->(o0) MXFunction\nAlgorithm:\n@0 = input[0][0]\n@0 = (2.*@0)\n@1 = input[1][0]\n@0 = (@0*@1)\n@0 = sin(@0)\noutput[0][0] = @0None\n"
        }
       ]
      }
     },
     "f34a48b677c945678a2b91cee403e1ce": {
      "model_module": "@jupyter-widgets/output",
      "model_module_version": "1.0.0",
      "model_name": "OutputModel",
      "state": {
       "layout": "IPY_MODEL_cda2fc389e9744a49c1ccaec0f4c4e0a",
       "outputs": [
        {
         "name": "stdout",
         "output_type": "stream",
         "text": "\u001b[1mExpanded expression graph MX:\u001b[0m\nzMxFun:(i0[2x2],i1[2])->(o0[2]) SXFunction\nAlgorithm:\n@0 = input[0][0];\n@1 = input[1][0];\n@0 = (@0*@1);\n@2 = input[0][2];\n@3 = input[1][1];\n@2 = (@2*@3);\n@0 = (@0+@2);\noutput[0][0] = @0;\n@0 = input[0][1];\n@0 = (@0*@1);\n@1 = input[0][3];\n@1 = (@1*@3);\n@0 = (@0+@1);\noutput[0][1] = @0;None\n"
        }
       ]
      }
     },
     "f991b027d308456ba15f0f435b3f01d1": {
      "model_module": "@jupyter-widgets/output",
      "model_module_version": "1.0.0",
      "model_name": "OutputModel",
      "state": {
       "layout": "IPY_MODEL_1c0f065d3b2f44788e75b863704a458b",
       "outputs": [
        {
         "name": "stdout",
         "output_type": "stream",
         "text": "\u001b[1mExpression graph without inlining:\u001b[0m\nzFunV1:(i0,i1)->(o0) MXFunction\nAlgorithm:\n@0 = input[0][0]\n@0 = (2.*@0)\n@1 = input[1][0]\n@2 = zFun(@0, @1)\noutput[0][0] = @2None\n"
        }
       ]
      }
     },
     "fcaff158461b46aaa4120bc6e7a35fce": {
      "model_module": "@jupyter-widgets/base",
      "model_module_version": "1.2.0",
      "model_name": "LayoutModel",
      "state": {
       "width": "50%"
      }
     },
     "fe0969a9d1484cc188448058bab64fa1": {
      "model_module": "@jupyter-widgets/output",
      "model_module_version": "1.0.0",
      "model_name": "OutputModel",
      "state": {
       "layout": "IPY_MODEL_b73436ac5315417fad4c29ec5392fd55",
       "outputs": [
        {
         "name": "stdout",
         "output_type": "stream",
         "text": "\u001b[1mOutput variable SX with MX:\u001b[0m\nfSxFun(AMx, bMx){0} \n\n\u001b[1mCalling SX with MX:\u001b[0m\nsxWithMxFun:(i0[2x2],i1[2])->(o0[2]) MXFunction\nAlgorithm:\n@0 = input[0][0]\n@1 = input[1][0]\n@2 = fSxFun(@0, @1)\noutput[0][0] = @2None\n"
        }
       ]
      }
     }
    },
    "version_major": 2,
    "version_minor": 0
   }
  }
 },
 "nbformat": 4,
 "nbformat_minor": 4
}
